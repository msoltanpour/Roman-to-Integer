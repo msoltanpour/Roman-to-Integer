{
  "nbformat": 4,
  "nbformat_minor": 0,
  "metadata": {
    "colab": {
      "provenance": [],
      "authorship_tag": "ABX9TyNGd7OoQNLAfIBNSqVQUEoM",
      "include_colab_link": true
    },
    "kernelspec": {
      "name": "python3",
      "display_name": "Python 3"
    },
    "language_info": {
      "name": "python"
    }
  },
  "cells": [
    {
      "cell_type": "markdown",
      "metadata": {
        "id": "view-in-github",
        "colab_type": "text"
      },
      "source": [
        "<a href=\"https://colab.research.google.com/github/msoltanpour/Roman-to-Integer/blob/main/Roman2int.ipynb\" target=\"_parent\"><img src=\"https://colab.research.google.com/assets/colab-badge.svg\" alt=\"Open In Colab\"/></a>"
      ]
    },
    {
      "cell_type": "code",
      "source": [
        "def roman2int(roman):\n",
        "    i = 0\n",
        "    total = 0\n",
        "    roman = roman[::-1]\n",
        "\n",
        "    while i < len(roman) - 1:\n",
        "        if roman_dict(roman[i + 1]) >= roman_dict(roman[i]):\n",
        "            total = total + roman_dict(roman[i])\n",
        "            i = i + 1\n",
        "\n",
        "        else:\n",
        "            total = total + roman_dict(roman[i]) - roman_dict(roman[i + 1])\n",
        "            i = i + 2\n",
        "\n",
        "\n",
        "    if i == len(roman) - 1:\n",
        "        total = total + roman_dict(roman[-1])\n",
        "\n",
        "    return total\n"
      ],
      "metadata": {
        "id": "PWYVi-Tjkf_e"
      },
      "execution_count": 49,
      "outputs": []
    },
    {
      "cell_type": "code",
      "source": [
        "def roman_dict(s):\n",
        "\n",
        "  if s == \"I\":\n",
        "    return 1\n",
        "\n",
        "  if s == \"V\":\n",
        "    return 5\n",
        "\n",
        "  if s == \"X\":\n",
        "    return 10\n",
        "\n",
        "  if s == \"L\":\n",
        "    return 50\n",
        "\n",
        "  if s == \"c\":\n",
        "    return 100\n",
        "\n",
        "  if s == \"C\":\n",
        "    return 500\n",
        "\n",
        "  if s == \"M\":\n",
        "    return 1000\n",
        "\n",
        "\n",
        "\n",
        "\n"
      ],
      "metadata": {
        "id": "HftEi4zjlWFR"
      },
      "execution_count": 50,
      "outputs": []
    },
    {
      "cell_type": "code",
      "source": [
        "print(roman2int(\"MCMXCIV\"))"
      ],
      "metadata": {
        "colab": {
          "base_uri": "https://localhost:8080/"
        },
        "id": "QQ5Vu1PvnI2V",
        "outputId": "87eed872-b379-496e-997a-14cbb7bf5ba0"
      },
      "execution_count": 51,
      "outputs": [
        {
          "output_type": "stream",
          "name": "stdout",
          "text": [
            "1994\n"
          ]
        }
      ]
    },
    {
      "cell_type": "code",
      "source": [],
      "metadata": {
        "id": "DdtHhwVoso1n"
      },
      "execution_count": null,
      "outputs": []
    }
  ]
}